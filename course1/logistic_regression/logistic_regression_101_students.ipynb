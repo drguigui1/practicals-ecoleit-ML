{
  "cells": [
    {
      "cell_type": "markdown",
      "metadata": {
        "id": "iw1d9NjjzzdP"
      },
      "source": [
        "# Logistic regression"
      ]
    },
    {
      "cell_type": "markdown",
      "metadata": {
        "id": "DEbnmOnX2pbi"
      },
      "source": [
        "Welcome to our practical notebook on Logistic Regression. In this session, you will:\n",
        "\n",
        "Dive into the fundamentals of Logistic Regression, a cornerstone algorithm for binary classification.\n",
        "Implement the Logistic Regression algorithm from scratch, enhancing your understanding of its inner workings.\n",
        "Apply this knowledge to a real dataset, practicing data preprocessing, model implementation, and performance evaluation.\n",
        "This hands-on experience aims to equip you with the skills to use Logistic Regression effectively in solving classification problems. Let's get started on this exciting journey into machine learning!"
      ]
    },
    {
      "cell_type": "markdown",
      "metadata": {
        "id": "Xm4KspUs0A2B"
      },
      "source": [
        "Our dataset (`microchip_test.csv`)\n",
        "\n",
        "In our exploration of machine learning, we will dive into the fascinating world of classification through a practical dataset known as the \"Microchip Test\" dataset. This dataset comprises results from two critical tests performed on a series of microchips. Each microchip undergoes Test 1 and Test 2, which measure specific attributes or performance metrics critical for determining the chip's quality. Based on these tests, each microchip is then classified as either \"Accepted\" or \"Rejected,\" represented by 1 and 0, respectively. Our objective will be to use this data to build a predictive model. This model will learn from the test results to accurately predict whether new microchips meet the quality standards. Through this hands-on experience, you'll gain insights into the principles of logistic regression and binary classification, enhancing your understanding of how machine learning can be applied to solve real-world problems in quality control and beyond."
      ]
    },
    {
      "cell_type": "markdown",
      "metadata": {
        "id": "ONCFZ7h82q4w"
      },
      "source": [
        "Load the dataset"
      ]
    },
    {
      "cell_type": "code",
      "execution_count": null,
      "metadata": {},
      "outputs": [],
      "source": [
        "# FIXME"
      ]
    },
    {
      "cell_type": "markdown",
      "metadata": {
        "id": "JXuRIu-T25fX"
      },
      "source": [
        "Make some observations on your dataset, you can use the describe function"
      ]
    },
    {
      "cell_type": "code",
      "execution_count": null,
      "metadata": {},
      "outputs": [],
      "source": [
        "# FIXME"
      ]
    },
    {
      "cell_type": "markdown",
      "metadata": {
        "id": "6SxqzmBv6iXu"
      },
      "source": [
        "Compute the number of samples per class"
      ]
    },
    {
      "cell_type": "code",
      "execution_count": null,
      "metadata": {},
      "outputs": [],
      "source": [
        "# FIXME"
      ]
    },
    {
      "cell_type": "markdown",
      "metadata": {
        "id": "bp1kgrA33EVH"
      },
      "source": [
        "Plot you data (scatter plot)\n",
        "\n",
        "x: test1\n",
        "\n",
        "y: test2\n",
        "\n",
        "color of each datapoint: label"
      ]
    },
    {
      "cell_type": "code",
      "execution_count": null,
      "metadata": {},
      "outputs": [],
      "source": [
        "# FIXME"
      ]
    },
    {
      "cell_type": "markdown",
      "metadata": {
        "id": "fl9WpuRg3t_M"
      },
      "source": [
        "Split the dataset, to extract the features and the label and convert to numpy"
      ]
    },
    {
      "cell_type": "code",
      "execution_count": null,
      "metadata": {},
      "outputs": [],
      "source": [
        "# FIXME"
      ]
    },
    {
      "cell_type": "markdown",
      "metadata": {
        "id": "BYOUWSqR4mS0"
      },
      "source": [
        "Build the Logistic regression model from sklearn"
      ]
    },
    {
      "cell_type": "code",
      "execution_count": null,
      "metadata": {},
      "outputs": [],
      "source": [
        "# FIXME"
      ]
    },
    {
      "cell_type": "markdown",
      "metadata": {
        "id": "5W-GzWCF401Y"
      },
      "source": [
        "Fit your LR model"
      ]
    },
    {
      "cell_type": "code",
      "execution_count": null,
      "metadata": {},
      "outputs": [],
      "source": [
        "# FIXME"
      ]
    },
    {
      "cell_type": "markdown",
      "metadata": {
        "id": "_u6sG8UA457J"
      },
      "source": [
        "display the parameters of the model"
      ]
    },
    {
      "cell_type": "code",
      "execution_count": null,
      "metadata": {},
      "outputs": [],
      "source": [
        "# FIXME"
      ]
    },
    {
      "cell_type": "markdown",
      "metadata": {
        "id": "VffQtj8B5JUQ"
      },
      "source": [
        "Write a function that is building the prediction of the model manually"
      ]
    },
    {
      "cell_type": "code",
      "execution_count": null,
      "metadata": {},
      "outputs": [],
      "source": [
        "# FIXME"
      ]
    },
    {
      "cell_type": "markdown",
      "metadata": {
        "id": "nO93z_VT6EFw"
      },
      "source": [
        "now give the prediction on all the training dataset\n",
        "\n",
        "- Call the function for the prediction\n",
        "- Call the function to get the probalities"
      ]
    },
    {
      "cell_type": "code",
      "execution_count": null,
      "metadata": {},
      "outputs": [],
      "source": [
        "# FIXME"
      ]
    },
    {
      "cell_type": "markdown",
      "metadata": {
        "id": "9XMGy2nS53-M"
      },
      "source": [
        "Compute the accuracy, on the data, call the function from sklearn"
      ]
    },
    {
      "cell_type": "code",
      "execution_count": null,
      "metadata": {},
      "outputs": [],
      "source": [
        "# FIXME"
      ]
    },
    {
      "cell_type": "markdown",
      "metadata": {
        "id": "N9JJMwJ86pgN"
      },
      "source": [
        "What can you conclude ?"
      ]
    },
    {
      "cell_type": "code",
      "execution_count": 28,
      "metadata": {
        "id": "stAlNR5s6sLT"
      },
      "outputs": [],
      "source": [
        "# FIXME"
      ]
    },
    {
      "cell_type": "markdown",
      "metadata": {},
      "source": [
        "Now plot your dataset (scatter plot) with the line from your prediction (you can use: `Contour` and `add_trace`) from plotly"
      ]
    },
    {
      "cell_type": "code",
      "execution_count": null,
      "metadata": {},
      "outputs": [],
      "source": [
        "# FIXME"
      ]
    },
    {
      "cell_type": "markdown",
      "metadata": {
        "id": "352AMwb59ibz"
      },
      "source": [
        "It should not work, do you understand why ?"
      ]
    },
    {
      "cell_type": "code",
      "execution_count": 38,
      "metadata": {
        "id": "px_olG2H69jq"
      },
      "outputs": [],
      "source": [
        "# FIXME"
      ]
    },
    {
      "cell_type": "markdown",
      "metadata": {
        "id": "KbJ8HBuP92ci"
      },
      "source": [
        "We have 2 options:\n",
        "\n",
        "- Change the model, to build a non linear model (like multi layer neural network)\n",
        "\n",
        "- Make some feature engineering and work with our features to be able to build our linear model\n",
        "\n",
        "We are going to choose the 2nd option"
      ]
    },
    {
      "cell_type": "markdown",
      "metadata": {
        "id": "CLqfnBmd-J-E"
      },
      "source": [
        "Use `PolynomialFeatures` from sklearn to add new features in our model\n",
        "\n",
        "https://scikit-learn.org/stable/modules/generated/sklearn.preprocessing.PolynomialFeatures.html#sklearn.preprocessing.PolynomialFeatures\n"
      ]
    },
    {
      "cell_type": "code",
      "execution_count": null,
      "metadata": {},
      "outputs": [],
      "source": [
        "# FIXME"
      ]
    },
    {
      "cell_type": "markdown",
      "metadata": {
        "id": "vEhQLPSS-jPt"
      },
      "source": [
        "Now build again your model"
      ]
    },
    {
      "cell_type": "code",
      "execution_count": null,
      "metadata": {},
      "outputs": [],
      "source": [
        "# FIXME"
      ]
    },
    {
      "cell_type": "markdown",
      "metadata": {
        "id": "_gojoi-J-mpq"
      },
      "source": [
        "build your pipeline:\n",
        "\n",
        "- First call polynomial features builder\n",
        "\n",
        "- [OPT] call the standard scaler or min max scaler\n",
        "\n",
        "- call your model"
      ]
    },
    {
      "cell_type": "code",
      "execution_count": null,
      "metadata": {},
      "outputs": [],
      "source": [
        "# FIXME"
      ]
    },
    {
      "cell_type": "markdown",
      "metadata": {
        "id": "RS1-qdyS_B-s"
      },
      "source": [
        "Call the `.score` function (which computes for the LR the accuracy score)"
      ]
    },
    {
      "cell_type": "code",
      "execution_count": null,
      "metadata": {},
      "outputs": [],
      "source": [
        "# FIXME"
      ]
    },
    {
      "cell_type": "markdown",
      "metadata": {
        "id": "gVAid4RE_Ga_"
      },
      "source": [
        "It should be better"
      ]
    },
    {
      "cell_type": "markdown",
      "metadata": {
        "id": "HI7HLYy3_I8s"
      },
      "source": [
        "Now plot your results like before"
      ]
    },
    {
      "cell_type": "code",
      "execution_count": null,
      "metadata": {},
      "outputs": [],
      "source": [
        "# FIXME"
      ]
    },
    {
      "cell_type": "markdown",
      "metadata": {
        "id": "wqgL2m2w_gGG"
      },
      "source": [
        "Now let's implement the logistic regression from scratch"
      ]
    },
    {
      "cell_type": "code",
      "execution_count": 106,
      "metadata": {
        "id": "U87IvBTT_VqZ"
      },
      "outputs": [],
      "source": [
        "class LogisticRegressionCustom:\n",
        "    def __init__(self, input_size: int, learning_rate: float = 0.01):\n",
        "        # FIXME\n",
        "        pass\n",
        "\n",
        "    def __sigmoid(self, x: np.array) -> np.array:\n",
        "        # FIXME\n",
        "        pass\n",
        "\n",
        "    def __llh(self, pred: np.array, y: np.array) -> float:\n",
        "        # FIXME\n",
        "        pass\n",
        "\n",
        "    def train(self, nb_epochs: int, batch_size: int, x_data: np.array, y_data: np.array):\n",
        "        '''\n",
        "        x_data: shape=(nb_samples, nb_features)\n",
        "        '''\n",
        "        # FIXME\n",
        "        pass\n",
        "\n",
        "    def predict(self, x_data: np.array) -> np.array:\n",
        "        # FIXME\n",
        "        pass"
      ]
    },
    {
      "cell_type": "markdown",
      "metadata": {
        "id": "g2xqc-9IAAbP"
      },
      "source": [
        "Now we can test our model\n",
        "\n",
        "- Build our model\n",
        "\n",
        "- Build the polynomial features\n",
        "\n",
        "- Fit our custom model\n",
        "\n",
        "- Display the LLH loss of your custom model for each epoch\n",
        "\n",
        "- Compute the accuracy score on the train data"
      ]
    },
    {
      "cell_type": "code",
      "execution_count": null,
      "metadata": {},
      "outputs": [],
      "source": [
        "# FIXME"
      ]
    },
    {
      "cell_type": "markdown",
      "metadata": {
        "id": "3HNw8FWvC9-X"
      },
      "source": [
        "Display the LLH loss during the training"
      ]
    },
    {
      "cell_type": "code",
      "execution_count": null,
      "metadata": {},
      "outputs": [],
      "source": [
        "# FIXME"
      ]
    },
    {
      "cell_type": "markdown",
      "metadata": {
        "id": "tmG044EXDhre"
      },
      "source": [
        "Now display the accuracy score"
      ]
    },
    {
      "cell_type": "code",
      "execution_count": null,
      "metadata": {},
      "outputs": [],
      "source": [
        "# FIXME"
      ]
    }
  ],
  "metadata": {
    "colab": {
      "provenance": []
    },
    "kernelspec": {
      "display_name": "Python 3",
      "name": "python3"
    },
    "language_info": {
      "name": "python"
    }
  },
  "nbformat": 4,
  "nbformat_minor": 0
}
