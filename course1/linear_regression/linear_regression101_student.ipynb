{
  "cells": [
    {
      "cell_type": "markdown",
      "metadata": {
        "id": "JF6a1mIPa3Sg"
      },
      "source": [
        "# Linear regression practical"
      ]
    },
    {
      "cell_type": "markdown",
      "metadata": {
        "id": "xlE3jV10gQtE"
      },
      "source": [
        "### Linear regression with one variable"
      ]
    },
    {
      "cell_type": "markdown",
      "metadata": {
        "id": "gNbjoKrqZPGX"
      },
      "source": [
        "**First small dataset** (`pop_profit.txt`): You have restaurant franchise and you are considering opening new restaurants in new cities. You already have restaurants in various cities and you have data about your profits according to the population of the cities. You want to use this data to help to select the next cities. The dataset mainly contains 2 columns: population of the city (in 10,000s) and the profit in $10,000s"
      ]
    },
    {
      "cell_type": "markdown",
      "metadata": {
        "id": "Os9eneH3bMsi"
      },
      "source": [
        "Use pandas to read the csv (we don't have any column name)"
      ]
    },
    {
      "cell_type": "code",
      "execution_count": null,
      "metadata": {},
      "outputs": [],
      "source": [
        "# FIXME"
      ]
    },
    {
      "cell_type": "markdown",
      "metadata": {
        "id": "dLoMZv36bpk_"
      },
      "source": [
        "Extract the x column (1st column) and the y column (2nd column)\n",
        "\n",
        "x: population size\n",
        "\n",
        "y: profit in $"
      ]
    },
    {
      "cell_type": "code",
      "execution_count": null,
      "metadata": {},
      "outputs": [],
      "source": [
        "# FIXME"
      ]
    },
    {
      "cell_type": "markdown",
      "metadata": {
        "id": "BJspogredNOM"
      },
      "source": [
        "reshape your data to have: (nb_samples, nb_features)"
      ]
    },
    {
      "cell_type": "code",
      "execution_count": null,
      "metadata": {},
      "outputs": [],
      "source": [
        "# FIXME"
      ]
    },
    {
      "cell_type": "markdown",
      "metadata": {
        "id": "aco6rKLBc4w3"
      },
      "source": [
        "Create the Linear regression object from sklearn"
      ]
    },
    {
      "cell_type": "code",
      "execution_count": null,
      "metadata": {},
      "outputs": [],
      "source": [
        "# FIXME"
      ]
    },
    {
      "cell_type": "markdown",
      "metadata": {
        "id": "9V99VKwhdEta"
      },
      "source": [
        "Now fit the Linear regression on the data\n"
      ]
    },
    {
      "cell_type": "code",
      "execution_count": null,
      "metadata": {},
      "outputs": [],
      "source": [
        "# FIXME"
      ]
    },
    {
      "cell_type": "markdown",
      "metadata": {
        "id": "E5qgiuDldvlH"
      },
      "source": [
        "Now display the parameters of the model\n",
        "\n",
        "check the attributes `intercept_` and `coef_` from the sklearn LinearRegression object"
      ]
    },
    {
      "cell_type": "code",
      "execution_count": null,
      "metadata": {},
      "outputs": [],
      "source": [
        "# FIXME"
      ]
    },
    {
      "cell_type": "markdown",
      "metadata": {
        "id": "ZrZCEt4md-xQ"
      },
      "source": [
        "In the following cell, plot data and regression line"
      ]
    },
    {
      "cell_type": "code",
      "execution_count": null,
      "metadata": {},
      "outputs": [],
      "source": [
        "# FIXME"
      ]
    },
    {
      "cell_type": "markdown",
      "metadata": {
        "id": "rvT4kjceeNPy"
      },
      "source": [
        "Display the mean squared error of the model, on the full dataset"
      ]
    },
    {
      "cell_type": "code",
      "execution_count": null,
      "metadata": {},
      "outputs": [],
      "source": [
        "# FIXME"
      ]
    },
    {
      "cell_type": "markdown",
      "metadata": {
        "id": "IGui-oNneZZ6"
      },
      "source": [
        "Display the training score now\n",
        "\n",
        "Understanding R-squared (R²)\n",
        "\n",
        "R-squared, often written as R², is a statistical measure that represents the proportion of the variance for a dependent variable that's explained by an independent variable or variables in a regression model. In simpler terms, it tells you how much of the variation in your dependent (target) variable can be explained by the model's independent (predictor) variables.\n",
        "\n",
        "Why is R² Important?\n",
        "\n",
        "R² is important because it gives you an insight into the effectiveness of your model:\n",
        "\n",
        "- An R² of 1 indicates that your model perfectly predicts the target variable.\n",
        "\n",
        "- An R² of 0 means that the model does not improve the prediction over using the mean of the target variable.\n",
        "\n",
        "- Negative R² values, while less common, indicate that the model performs worse than just predicting the mean of the target variable.\n",
        "\n",
        "\n",
        "The score is computed like that:\n",
        "\n",
        "u = ((y_test - y_predicted) ** 2).sum()\n",
        "\n",
        "v = ((y_test - y_test.mean()) ** 2).sum()\n",
        "\n",
        "score = 1 - (u/v)"
      ]
    },
    {
      "cell_type": "code",
      "execution_count": null,
      "metadata": {},
      "outputs": [],
      "source": [
        "# FIXME"
      ]
    },
    {
      "cell_type": "markdown",
      "metadata": {
        "id": "n5nqk8ITefkb"
      },
      "source": [
        "Predict profit in $ for populations of 35.000 and 100.000"
      ]
    },
    {
      "cell_type": "code",
      "execution_count": null,
      "metadata": {},
      "outputs": [],
      "source": [
        "# FIXME"
      ]
    },
    {
      "cell_type": "markdown",
      "metadata": {
        "id": "LxjN972wgTgQ"
      },
      "source": [
        "### Linear regression with multiple variable"
      ]
    },
    {
      "cell_type": "markdown",
      "metadata": {
        "id": "smlRYLvzknCb"
      },
      "source": [
        "**Second small dataset** (`bedroom_price.txt`): This dataset contains 3 columns (house size in feet**2, number of bedrooms, house price)\n",
        "\n",
        "Our goal is to make a model that will be able to predict the house price based on the number of feet and the number of bedrooms.\n"
      ]
    },
    {
      "cell_type": "markdown",
      "metadata": {
        "id": "5loL19aklKe5"
      },
      "source": [
        "First let's load the data like before"
      ]
    },
    {
      "cell_type": "code",
      "execution_count": null,
      "metadata": {},
      "outputs": [],
      "source": [
        "# FIXME"
      ]
    },
    {
      "cell_type": "markdown",
      "metadata": {
        "id": "L7px5njelbGt"
      },
      "source": [
        "Display the number of samples"
      ]
    },
    {
      "cell_type": "code",
      "execution_count": null,
      "metadata": {},
      "outputs": [],
      "source": [
        "# FIXME"
      ]
    },
    {
      "cell_type": "markdown",
      "metadata": {
        "id": "VCcxWV8Dl6_k"
      },
      "source": [
        "Now let's plot the data in 3d to understand the shape of our dataset"
      ]
    },
    {
      "cell_type": "code",
      "execution_count": null,
      "metadata": {},
      "outputs": [],
      "source": [
        "# FIXME"
      ]
    },
    {
      "cell_type": "markdown",
      "metadata": {
        "id": "L1vP7HsonAB4"
      },
      "source": [
        "We can create a pipeline and use a standard scaler (from sklearn) to reduce the values of our features and help our model to converge"
      ]
    },
    {
      "cell_type": "code",
      "execution_count": null,
      "metadata": {},
      "outputs": [],
      "source": [
        "# FIXME"
      ]
    },
    {
      "cell_type": "markdown",
      "metadata": {
        "id": "41yEvjz8nYBF"
      },
      "source": [
        "Now fit your model"
      ]
    },
    {
      "cell_type": "code",
      "execution_count": null,
      "metadata": {},
      "outputs": [],
      "source": [
        "# FIXME"
      ]
    },
    {
      "cell_type": "markdown",
      "metadata": {
        "id": "7ZgpPp7coSj9"
      },
      "source": [
        "Display the parameters of your model"
      ]
    },
    {
      "cell_type": "code",
      "execution_count": null,
      "metadata": {},
      "outputs": [],
      "source": [
        "# FIXME"
      ]
    },
    {
      "cell_type": "markdown",
      "metadata": {
        "id": "TP6NjF4LnzCe"
      },
      "source": [
        "Now plot the dataset with your model represented as a 3d plane\n",
        "\n",
        "you can use:\n",
        "\n",
        "- np.linspace\n",
        "- np.meshgrid\n",
        "- .ravel()\n",
        "- np.c_ -> (to concatenate)"
      ]
    },
    {
      "cell_type": "code",
      "execution_count": null,
      "metadata": {},
      "outputs": [],
      "source": [
        "# FIXME"
      ]
    },
    {
      "cell_type": "markdown",
      "metadata": {
        "id": "N0Z2_rkJrRCY"
      },
      "source": [
        "Now display the mean squared error"
      ]
    },
    {
      "cell_type": "code",
      "execution_count": null,
      "metadata": {},
      "outputs": [],
      "source": [
        "# FIXME"
      ]
    },
    {
      "cell_type": "markdown",
      "metadata": {
        "id": "x9DBDo25oZkX"
      },
      "source": [
        "Now implement from scratch the Linear regression"
      ]
    },
    {
      "cell_type": "code",
      "execution_count": 56,
      "metadata": {
        "id": "egvwBz9xobQl"
      },
      "outputs": [],
      "source": [
        "import numpy as np\n",
        "\n",
        "class CustomLinearRegression:\n",
        "    def __init__(self):\n",
        "        # FIXME\n",
        "        pass\n",
        "\n",
        "    def fit(self, X: np.array, y: np.array):\n",
        "        # FIXME\n",
        "        pass\n",
        "\n",
        "    def predict(self, X):\n",
        "        # FIXME\n",
        "        pass"
      ]
    },
    {
      "cell_type": "code",
      "execution_count": 57,
      "metadata": {
        "id": "-FO5gNWEueR9"
      },
      "outputs": [],
      "source": [
        "# FIXME"
      ]
    },
    {
      "cell_type": "markdown",
      "metadata": {
        "id": "7J1Smf8uutlQ"
      },
      "source": [
        "Create the scaler object"
      ]
    },
    {
      "cell_type": "code",
      "execution_count": null,
      "metadata": {},
      "outputs": [],
      "source": [
        "# FIXME"
      ]
    },
    {
      "cell_type": "markdown",
      "metadata": {
        "id": "VKeqb0Wjuu28"
      },
      "source": [
        "Apply the scaler object using `transform`"
      ]
    },
    {
      "cell_type": "code",
      "execution_count": null,
      "metadata": {},
      "outputs": [],
      "source": [
        "# FIXME"
      ]
    },
    {
      "cell_type": "markdown",
      "metadata": {
        "id": "i9bM1pdhu7qv"
      },
      "source": [
        "fit your custom model and display the parameters"
      ]
    },
    {
      "cell_type": "code",
      "execution_count": null,
      "metadata": {},
      "outputs": [],
      "source": [
        "# FIXME"
      ]
    }
  ],
  "metadata": {
    "colab": {
      "provenance": []
    },
    "kernelspec": {
      "display_name": "Python 3",
      "name": "python3"
    },
    "language_info": {
      "name": "python"
    }
  },
  "nbformat": 4,
  "nbformat_minor": 0
}
