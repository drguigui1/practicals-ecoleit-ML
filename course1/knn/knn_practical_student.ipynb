{
  "cells": [
    {
      "cell_type": "markdown",
      "metadata": {
        "id": "67Kbjo4AVSnW"
      },
      "source": [
        "# K-Nearest-Neighbor practical"
      ]
    },
    {
      "cell_type": "markdown",
      "metadata": {
        "id": "ajR82344VRcJ"
      },
      "source": [
        "In this practical, we will explore the K Nearest Neighbors (KNN) algorithm, a simple yet powerful method used for classification tasks. KNN classifies new cases based on a similarity measure (e.g., distance functions). A case is classified by a majority vote of its neighbors, with the case being assigned to the class most common among its k nearest neighbors measured by a distance function. This practical will guide you through implementing KNN to classify instances of the Breast Cancer Wisconsin (diagnostic) dataset, aiming to predict whether a tumor is malignant or benign based on various attributes."
      ]
    },
    {
      "cell_type": "markdown",
      "metadata": {
        "id": "8bOb-khBVzMz"
      },
      "source": [
        "### Step 1: Understanding the KNN Classifier\n",
        "\n",
        "Before diving into the code, let's briefly review the KNN algorithm. KNN is a type of instance-based or lazy learning, where the function is only approximated locally, and all computation is deferred until classification. The KNN algorithm has the following steps:\n",
        "\n",
        "\n",
        "- Choose the number of k and a distance metric.\n",
        "- Find the k nearest neighbors of the sample that we want to classify.\n",
        "- Assign the class label by majority vote."
      ]
    },
    {
      "cell_type": "markdown",
      "metadata": {
        "id": "W_VDIrx3V-A9"
      },
      "source": [
        "### Step 2: Loading and Analyzing the Dataset\n",
        "\n",
        "First, we need to load the dataset and perform some preliminary analysis to understand its structure and contents.\n",
        "\n",
        "Use: `from sklearn.datasets import load_breast_cancer`\n",
        "\n",
        "In addition compute some statistics on the dataset\n",
        "\n",
        "- Number of samples\n",
        "- Number of features\n",
        "- Label proportions\n",
        "- ..."
      ]
    },
    {
      "cell_type": "code",
      "execution_count": null,
      "metadata": {},
      "outputs": [],
      "source": [
        "# FIXME"
      ]
    },
    {
      "cell_type": "markdown",
      "metadata": {
        "id": "Y5JQz0g_WntK"
      },
      "source": [
        "### Step 3: Data Preprocessing\n",
        "\n",
        "Before applying KNN, it's essential to split the dataset into a training set and a testing set. This allows us to evaluate the performance of our model on unseen data. Keep 30% of the dataset for test."
      ]
    },
    {
      "cell_type": "code",
      "execution_count": null,
      "metadata": {},
      "outputs": [],
      "source": [
        "# FIXME"
      ]
    },
    {
      "cell_type": "markdown",
      "metadata": {
        "id": "VioUV1UyWwqH"
      },
      "source": [
        "### Step 4: Training the KNN Classifier\n",
        "\n",
        "We will start with a simple KNN model using only one neighbor to classify the new instances."
      ]
    },
    {
      "cell_type": "code",
      "execution_count": null,
      "metadata": {},
      "outputs": [],
      "source": [
        "# FIXME"
      ]
    },
    {
      "cell_type": "markdown",
      "metadata": {
        "id": "_GIjoCnQW-qJ"
      },
      "source": [
        "Evaluate the performances of the classifier. Compute the accuracy on the training and on the test set."
      ]
    },
    {
      "cell_type": "code",
      "execution_count": null,
      "metadata": {},
      "outputs": [],
      "source": [
        "# FIXME"
      ]
    },
    {
      "cell_type": "markdown",
      "metadata": {
        "id": "PYydNbHhXuoX"
      },
      "source": [
        "Now display the confusion matrix"
      ]
    },
    {
      "cell_type": "code",
      "execution_count": null,
      "metadata": {},
      "outputs": [],
      "source": [
        "# FIXME"
      ]
    },
    {
      "cell_type": "markdown",
      "metadata": {
        "id": "-0QStChqXwUs"
      },
      "source": [
        "Display the metrics:\n",
        "- precision\n",
        "- recall\n",
        "- f1-score"
      ]
    },
    {
      "cell_type": "code",
      "execution_count": null,
      "metadata": {},
      "outputs": [],
      "source": [
        "# FIXME"
      ]
    },
    {
      "cell_type": "markdown",
      "metadata": {
        "id": "9qT6DP5XYir2"
      },
      "source": [
        "In this part of the practical, you'll perform an experiment where you'll vary the size of the test set and observe how it impacts the accuracy of the KNN classifier. You will use multiple test set sizes: 5%, 10%, 15%, 20%, 30%, 50%, 70%, 90% and 95%. For each proportion:\n",
        "\n",
        "- Split the dataset into a training set and a test set according to the specified proportion.\n",
        "\n",
        "- Train a KNN classifier on the training set.\n",
        "\n",
        "- Compute and store the accuracy on the test set.\n",
        "\n",
        "- Plot the accuracy against the test set size to analyze the relationship between test set size and model performance.\n",
        "\n",
        "This experiment will provide insights into the trade-off between using more data for training versus leaving enough data for a meaningful evaluation of the model's performance."
      ]
    },
    {
      "cell_type": "code",
      "execution_count": null,
      "metadata": {},
      "outputs": [],
      "source": [
        "# FIXME"
      ]
    },
    {
      "cell_type": "markdown",
      "metadata": {
        "id": "f42TfyBZZDEB"
      },
      "source": [
        "### Step 5: Exploring Different Values of K\n",
        "\n",
        "Investigate how the choice of k affects the model's performance and decision boundaries.\n",
        "\n",
        "Use test_size=0.3\n",
        "\n",
        "And then train a KNN classifier for different values of k. Then plot the train / test accuracy according to k values"
      ]
    },
    {
      "cell_type": "code",
      "execution_count": null,
      "metadata": {
        "id": "R-T_YIwKZUPn"
      },
      "outputs": [],
      "source": [
        "# FIXME"
      ]
    }
  ],
  "metadata": {
    "colab": {
      "provenance": []
    },
    "kernelspec": {
      "display_name": "Python 3",
      "name": "python3"
    },
    "language_info": {
      "name": "python"
    }
  },
  "nbformat": 4,
  "nbformat_minor": 0
}
