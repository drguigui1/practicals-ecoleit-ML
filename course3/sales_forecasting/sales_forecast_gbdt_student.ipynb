{
  "cells": [
    {
      "cell_type": "markdown",
      "metadata": {
        "id": "Y_6vS9sirQ9A"
      },
      "source": [
        "# TP: Sales forecasting\n",
        "\n",
        "The goal of this TP is to build an algorithm to make some sales forecasting model. Forecast the sales for a specific day.\n",
        "\n",
        "For this you have multiples files containing different informations\n",
        "\n",
        "The TP is divided into 3 parts:\n",
        "\n",
        "- Data analysis (understand the data and make some plots)\n",
        "\n",
        "- Data preprocessing (train / test split + features preprocessing)\n",
        "\n",
        "- Build & train models:\n",
        "    - Decision tree\n",
        "    - Random forest\n",
        "    - GBDT\n",
        "\n",
        "\n",
        "BONUS: Prophet model from faceboost (https://facebook.github.io/prophet/docs/quick_start.html#python-api / https://medium.com/illumination/understanding-fb-prophet-a-time-series-forecasting-algorithm-c998bc52ca10)\n",
        "\n",
        "\n",
        "Dataset link: https://drive.google.com/drive/folders/1PDB0ASnEGfxCHosvUSttwsx2j4vwRdhD?usp=sharing"
      ]
    },
    {
      "cell_type": "markdown",
      "metadata": {
        "id": "EwX6CqPjTbyC"
      },
      "source": [
        "**data.csv**\n",
        "-------\n",
        "\n",
        "The data (train & test), comprising time series of features store_nbr, family, and onpromotion as well as the target sales.\n",
        "\n",
        "**store_nbr** identifies the store at which the products are sold.\n",
        "family identifies the type of product sold.\n",
        "\n",
        "**sales** gives the total sales for a product family at a particular store at a given date. Fractional values are possible since products can be sold in fractional units (1.5 kg of cheese, for instance, as opposed to 1 bag of chips).\n",
        "\n",
        "**onpromotion** gives the total number of items in a product family that were being promoted at a store at a given date.\n",
        "\n",
        "\n",
        "**test.csv**\n",
        "-------\n",
        "\n",
        "The test data, having the same features as the training data. You will predict the target sales for the dates in this file.\n",
        "The dates in the test data are for the 15 days after the last date in the training data.\n",
        "\n",
        "**transactions.csv**\n",
        "------\n",
        "Information of the transactions for each store.\n",
        "\n",
        "It contains the day, the store id and the number of transactions\n",
        "\n",
        "**stores.csv**\n",
        "------\n",
        "Store metadata, including city, state, type, and cluster.\n",
        "\n",
        "cluster is a grouping of similar stores.\n",
        "\n",
        "**oil.csv**\n",
        "------\n",
        "Daily oil price. Includes values during both the train and test data timeframes. (Ecuador is an oil-dependent country and it's economical health is highly vulnerable to shocks in oil prices.)\n",
        "\n",
        "**holidays_events.csv**\n",
        "------\n",
        "\n",
        "Holidays and Events, with metadata\n",
        "\n",
        "NOTE: Pay special attention to the transferred column. A holiday that is transferred officially falls on that calendar day, but was moved to another date by the government. A transferred day is more like a normal day than a holiday. To find the day that it was actually celebrated, look for the corresponding row where type is Transfer. For example, the holiday Independencia de Guayaquil was transferred from 2012-10-09 to 2012-10-12, which means it was celebrated on 2012-10-12. Days that are type Bridge are extra days that are added to a holiday (e.g., to extend the break across a long weekend). These are frequently made up by the type Work Day which is a day not normally scheduled for work (e.g., Saturday) that is meant to payback the Bridge.\n",
        "\n",
        "Additional holidays are days added a regular calendar holiday, for example, as typically happens around Christmas (making Christmas Eve a holiday).\n",
        "\n",
        "\n",
        "**Other df added to help you to have better forecasting**\n",
        "------\n",
        "\n",
        "ALL_COMMODITIES_data.csv\n",
        "\n",
        "COTTON_data.csv\toil.csv\n",
        "\n",
        "ALUMINUM_data.csv\n",
        "\n",
        "COPPER_data.csv\n",
        "\n",
        "NATURAL_GAS_data.csv\n",
        "\n",
        "SUGAR_data.csv\n",
        "\n",
        "**GOAL**\n",
        "-----\n",
        "The Goal of this TP is to forecast the 'sales' column of the data.csv\n",
        "\n",
        "-> We want to be able to predict the sales value for a specific day\n"
      ]
    },
    {
      "cell_type": "markdown",
      "metadata": {
        "id": "jI7H-P9OtMe6"
      },
      "source": [
        "# 1. Data loading and analysis"
      ]
    },
    {
      "cell_type": "markdown",
      "metadata": {
        "id": "ovddSNAyTXw9"
      },
      "source": [
        "Load the data"
      ]
    },
    {
      "cell_type": "code",
      "execution_count": null,
      "metadata": {},
      "outputs": [],
      "source": [
        "# FIXME"
      ]
    },
    {
      "cell_type": "markdown",
      "metadata": {
        "id": "Ek9MerYdUwwB"
      },
      "source": [
        "Display the list of unique values for the column store_nbr"
      ]
    },
    {
      "cell_type": "code",
      "execution_count": null,
      "metadata": {},
      "outputs": [],
      "source": [
        "# FIXME"
      ]
    },
    {
      "cell_type": "markdown",
      "metadata": {
        "id": "TCxZeLc7fO8A"
      },
      "source": [
        "As you can notice in the data.csv\n",
        "\n",
        "We have multiple time the same dates, for instance we have multiple time 2023-01-01 for each store nb and each family (product).\n",
        "\n",
        "It means our model need to be able to predict for a specific date / store / product family / number of promotions what is going to be the number of sales"
      ]
    },
    {
      "cell_type": "markdown",
      "metadata": {
        "id": "DLVytY9mT3UE"
      },
      "source": [
        "Plot the number of promotion by product family"
      ]
    },
    {
      "cell_type": "code",
      "execution_count": null,
      "metadata": {},
      "outputs": [],
      "source": [
        "# FIXME"
      ]
    },
    {
      "cell_type": "markdown",
      "metadata": {
        "id": "uQGNuhe5UA6B"
      },
      "source": [
        "Plot for each store the number of promotions"
      ]
    },
    {
      "cell_type": "code",
      "execution_count": null,
      "metadata": {},
      "outputs": [],
      "source": [
        "# FIXME"
      ]
    },
    {
      "cell_type": "markdown",
      "metadata": {
        "id": "wYyWLVT1cKF0"
      },
      "source": [
        "Plot the sales amount per day for a specific store"
      ]
    },
    {
      "cell_type": "code",
      "execution_count": null,
      "metadata": {},
      "outputs": [],
      "source": [
        "# FIXME"
      ]
    },
    {
      "cell_type": "markdown",
      "metadata": {
        "id": "8FiZmHqNewz0"
      },
      "source": [
        "Display the unique values of product family"
      ]
    },
    {
      "cell_type": "code",
      "execution_count": null,
      "metadata": {},
      "outputs": [],
      "source": [
        "# FIXME"
      ]
    },
    {
      "cell_type": "markdown",
      "metadata": {
        "id": "72A1U9XzcW8C"
      },
      "source": [
        "Plot the sales amount per day for a specific product family for all stores"
      ]
    },
    {
      "cell_type": "code",
      "execution_count": null,
      "metadata": {},
      "outputs": [],
      "source": [
        "# FIXME"
      ]
    },
    {
      "cell_type": "markdown",
      "metadata": {
        "id": "GRRs_4aLc0xY"
      },
      "source": [
        "Plot the sales amount for all store and all product for each day"
      ]
    },
    {
      "cell_type": "code",
      "execution_count": null,
      "metadata": {},
      "outputs": [],
      "source": [
        "# FIXME"
      ]
    },
    {
      "cell_type": "markdown",
      "metadata": {
        "id": "hgWjzSQkdjor"
      },
      "source": [
        "Compute & plot the total number of sales by year"
      ]
    },
    {
      "cell_type": "code",
      "execution_count": null,
      "metadata": {},
      "outputs": [],
      "source": [
        "# FIXME"
      ]
    },
    {
      "cell_type": "markdown",
      "metadata": {
        "id": "NhPMTBrjfxvH"
      },
      "source": [
        "Plot a graph with the daily sales and daily promotions to be able to compare them"
      ]
    },
    {
      "cell_type": "code",
      "execution_count": null,
      "metadata": {},
      "outputs": [],
      "source": [
        "# FIXME"
      ]
    },
    {
      "cell_type": "markdown",
      "metadata": {
        "id": "42zdish2vuH2"
      },
      "source": [
        "Load transactions.csv"
      ]
    },
    {
      "cell_type": "code",
      "execution_count": null,
      "metadata": {},
      "outputs": [],
      "source": [
        "# FIXME"
      ]
    },
    {
      "cell_type": "markdown",
      "metadata": {
        "id": "R-ILA1Dyw_m3"
      },
      "source": [
        "Display the number of transactions by day for all stores"
      ]
    },
    {
      "cell_type": "code",
      "execution_count": null,
      "metadata": {},
      "outputs": [],
      "source": [
        "# FIXME"
      ]
    },
    {
      "cell_type": "markdown",
      "metadata": {
        "id": "W2f4rz3t0mxI"
      },
      "source": [
        "In your previous plot, zoom on a specific period (you can do this with plotly)\n",
        "\n",
        "Check on internet the day of the week for this specific period\n",
        "\n",
        "What can you conclude ?"
      ]
    },
    {
      "cell_type": "markdown",
      "metadata": {
        "id": "DOv23NU3xD2-"
      },
      "source": [
        "Display the number of daily transactions for a specific store"
      ]
    },
    {
      "cell_type": "code",
      "execution_count": null,
      "metadata": {},
      "outputs": [],
      "source": [
        "# FIXME"
      ]
    },
    {
      "cell_type": "markdown",
      "metadata": {
        "id": "yb0qnOVkxIsZ"
      },
      "source": [
        "Join the data with the train.csv\n",
        "\n",
        "on date and store number\n",
        "\n",
        "replace the NaN values by 0"
      ]
    },
    {
      "cell_type": "code",
      "execution_count": null,
      "metadata": {},
      "outputs": [],
      "source": [
        "# FIXME"
      ]
    },
    {
      "cell_type": "markdown",
      "metadata": {
        "id": "q68eVpgZBy9Y"
      },
      "source": [
        "Load stores.csv"
      ]
    },
    {
      "cell_type": "code",
      "execution_count": null,
      "metadata": {},
      "outputs": [],
      "source": [
        "# FIXME"
      ]
    },
    {
      "cell_type": "markdown",
      "metadata": {
        "id": "OGbG4vKDCLcY"
      },
      "source": [
        "Plot the number of stores per city"
      ]
    },
    {
      "cell_type": "code",
      "execution_count": null,
      "metadata": {},
      "outputs": [],
      "source": [
        "# FIXME"
      ]
    },
    {
      "cell_type": "markdown",
      "metadata": {
        "id": "GWL7iYv1COpy"
      },
      "source": [
        "Plot the number of stores per state"
      ]
    },
    {
      "cell_type": "code",
      "execution_count": null,
      "metadata": {},
      "outputs": [],
      "source": [
        "# FIXME"
      ]
    },
    {
      "cell_type": "markdown",
      "metadata": {
        "id": "5KKslmY3DXr1"
      },
      "source": [
        "Join the store metadata df with train df\n",
        "\n",
        "IMPORTANT: make a left join (between df with the transactions and df stores)"
      ]
    },
    {
      "cell_type": "code",
      "execution_count": null,
      "metadata": {},
      "outputs": [],
      "source": [
        "# FIXME"
      ]
    },
    {
      "cell_type": "markdown",
      "metadata": {
        "id": "FNo9Xr63D0Tn"
      },
      "source": [
        "Load holidays_events.csv"
      ]
    },
    {
      "cell_type": "code",
      "execution_count": null,
      "metadata": {},
      "outputs": [],
      "source": [
        "# FIXME"
      ]
    },
    {
      "cell_type": "markdown",
      "metadata": {
        "id": "dNAKTXXQFRdW"
      },
      "source": [
        "Join this dataset with train df\n",
        "\n",
        "Make a left join on the day to include in the data the features from the holidays df\n",
        "- type\n",
        "- locale\n",
        "- locale_name\n",
        "- description\n",
        "- transferred\n",
        "\n",
        "Rename those columns to keep the information that it is related to the holidays"
      ]
    },
    {
      "cell_type": "code",
      "execution_count": null,
      "metadata": {},
      "outputs": [],
      "source": [
        "# FIXME"
      ]
    },
    {
      "cell_type": "markdown",
      "metadata": {
        "id": "Z36IHQcKD6N4"
      },
      "source": [
        "Load oil.csv"
      ]
    },
    {
      "cell_type": "code",
      "execution_count": null,
      "metadata": {},
      "outputs": [],
      "source": [
        "# FIXME"
      ]
    },
    {
      "cell_type": "markdown",
      "metadata": {
        "id": "R1HapTG1IgB-"
      },
      "source": [
        "Plot the historical oil price"
      ]
    },
    {
      "cell_type": "code",
      "execution_count": null,
      "metadata": {},
      "outputs": [],
      "source": [
        "# FIXME"
      ]
    },
    {
      "cell_type": "markdown",
      "metadata": {
        "id": "uNuAaMC4g_1A"
      },
      "source": [
        "Call pandas bfill() function to remove Nan from the 'dcoilwtico' column"
      ]
    },
    {
      "cell_type": "code",
      "execution_count": null,
      "metadata": {},
      "outputs": [],
      "source": [
        "# FIXME"
      ]
    },
    {
      "cell_type": "markdown",
      "metadata": {
        "id": "bKf-f6FuIfWt"
      },
      "source": [
        "Load all the other dfs\n",
        "\n",
        "ALL_COMMODITIES_data.csv\n",
        "\n",
        "COTTON_data.csv oil.csv\n",
        "\n",
        "ALUMINUM_data.csv\n",
        "\n",
        "COPPER_data.csv\n",
        "\n",
        "NATURAL_GAS_data.csv\n",
        "\n",
        "SUGAR_data.csv\n",
        "\n",
        "For each df plot the historical values\n",
        "\n",
        "`Filter the dates we want to keep between 2013-01-01 and 2017-08-31`\n",
        "\n",
        "And then join with our dataset, BE CAREFUL for those df we have only one data point per month"
      ]
    },
    {
      "cell_type": "code",
      "execution_count": null,
      "metadata": {},
      "outputs": [],
      "source": [
        "# FIXME"
      ]
    },
    {
      "cell_type": "markdown",
      "metadata": {
        "id": "sEtwVNDctTyn"
      },
      "source": [
        "# 2. Features processing"
      ]
    },
    {
      "cell_type": "markdown",
      "metadata": {
        "id": "njLXHlZnvYSK"
      },
      "source": [
        "Add temporal features like:\n",
        "\n",
        "- is_weekend: 1 if the day is the weekend 0 otherwise\n",
        "\n",
        "- is_holidays: 1 if the day is holdays 0 otherwise\n",
        "\n",
        "- month_number: Number of the month (like 12 for december)\n",
        "\n",
        "- day_week_number: Number of the week day (like 7 for sunday)\n",
        "\n",
        "- [OPT] is_few_days_before_christmas: 1 if is between 19 and 24 december, 0 otherwise (this might be a cool feature)"
      ]
    },
    {
      "cell_type": "code",
      "execution_count": null,
      "metadata": {},
      "outputs": [],
      "source": [
        "# FIXME"
      ]
    },
    {
      "cell_type": "markdown",
      "metadata": {
        "id": "iTlqd2nLiecF"
      },
      "source": [
        "Identify the categorical features"
      ]
    },
    {
      "cell_type": "code",
      "execution_count": null,
      "metadata": {},
      "outputs": [],
      "source": [
        "# FIXME"
      ]
    },
    {
      "cell_type": "markdown",
      "metadata": {
        "id": "KgQCqCvFirpV"
      },
      "source": [
        "For each categorical features display the number of modalities"
      ]
    },
    {
      "cell_type": "code",
      "execution_count": null,
      "metadata": {},
      "outputs": [],
      "source": [
        "# FIXME"
      ]
    },
    {
      "cell_type": "markdown",
      "metadata": {
        "id": "lWoNrugvwAo9"
      },
      "source": [
        "Remove the columns we don't need like:\n",
        "\n",
        "- id\n",
        "\n",
        "- year (if you have it)\n",
        "\n",
        "- holiday_description"
      ]
    },
    {
      "cell_type": "code",
      "execution_count": null,
      "metadata": {},
      "outputs": [],
      "source": [
        "# FIXME"
      ]
    },
    {
      "cell_type": "markdown",
      "metadata": {
        "id": "KLzNCZKeXG3v"
      },
      "source": [
        "Convert holiday_transferred feature to int (do not forget to fillna(0) on this column)"
      ]
    },
    {
      "cell_type": "code",
      "execution_count": null,
      "metadata": {},
      "outputs": [],
      "source": [
        "# FIXME"
      ]
    },
    {
      "cell_type": "markdown",
      "metadata": {
        "id": "UwFxACjNnaZK"
      },
      "source": [
        "Save the data into parquet to keep track of the previous work"
      ]
    },
    {
      "cell_type": "code",
      "execution_count": null,
      "metadata": {},
      "outputs": [],
      "source": [
        "# FIXME"
      ]
    },
    {
      "cell_type": "markdown",
      "metadata": {
        "id": "fJ1AdWxqnq_O"
      },
      "source": [
        "# 3. Feature engineering"
      ]
    },
    {
      "cell_type": "markdown",
      "metadata": {
        "id": "02MQhaRNn03Q"
      },
      "source": [
        "Here define the proper features for our model,\n",
        "\n",
        "some features can be used at any time of the time serie"
      ]
    },
    {
      "cell_type": "code",
      "execution_count": null,
      "metadata": {},
      "outputs": [],
      "source": [
        "# FIXME"
      ]
    },
    {
      "cell_type": "markdown",
      "metadata": {
        "id": "RCTuUoaSv5Ac"
      },
      "source": [
        "To make the feature engineering,\n",
        "we need to think a bit about:\n",
        "- Which feature is suposed to be predictive ?\n",
        "- Which feature can be used as historical feature ?\n",
        "- ..."
      ]
    },
    {
      "cell_type": "markdown",
      "metadata": {
        "id": "xZgcEm8JyqSJ"
      },
      "source": [
        "For instance `transactions` can be used has historical feature"
      ]
    },
    {
      "cell_type": "markdown",
      "metadata": {
        "id": "cepGITrWy32Y"
      },
      "source": [
        "For each historical feature, build a function that is going to compute multiple orther features like:\n",
        "- Last value\n",
        "- Second last value\n",
        "- Third last value\n",
        "- Variation last 7 days\n",
        "- Variation last 30 days\n",
        "- Rolling window last 7 days\n",
        "- ... (you can add more features)"
      ]
    },
    {
      "cell_type": "code",
      "execution_count": null,
      "metadata": {},
      "outputs": [],
      "source": [
        "# FIXME"
      ]
    },
    {
      "cell_type": "markdown",
      "metadata": {
        "id": "nxLiX8IZ6hkE"
      },
      "source": [
        "Now extract you labels and your features\n",
        "\n",
        "do not forget to remove all your historical features"
      ]
    },
    {
      "cell_type": "code",
      "execution_count": null,
      "metadata": {},
      "outputs": [],
      "source": [
        "# FIXME"
      ]
    },
    {
      "cell_type": "markdown",
      "metadata": {
        "id": "EZR_E4dK7zDx"
      },
      "source": [
        "Build a list with your categorical features we will need this list to build our catboost classifier"
      ]
    },
    {
      "cell_type": "code",
      "execution_count": null,
      "metadata": {},
      "outputs": [],
      "source": [
        "# FIXME"
      ]
    },
    {
      "cell_type": "markdown",
      "metadata": {
        "id": "Zdtiv_zS8oKm"
      },
      "source": [
        "Fill nan values with 0s"
      ]
    },
    {
      "cell_type": "code",
      "execution_count": null,
      "metadata": {},
      "outputs": [],
      "source": [
        "# FIXME"
      ]
    },
    {
      "cell_type": "markdown",
      "metadata": {
        "id": "R0i9uVNP7A6F"
      },
      "source": [
        "Separate your dataset between train and test"
      ]
    },
    {
      "cell_type": "code",
      "execution_count": null,
      "metadata": {},
      "outputs": [],
      "source": [
        "# FIXME"
      ]
    },
    {
      "cell_type": "markdown",
      "metadata": {
        "id": "f3owPP8OtZGq"
      },
      "source": [
        "# 3. Build models"
      ]
    },
    {
      "cell_type": "code",
      "execution_count": null,
      "metadata": {},
      "outputs": [],
      "source": [
        "# FIXME"
      ]
    }
  ],
  "metadata": {
    "accelerator": "GPU",
    "colab": {
      "gpuType": "T4",
      "machine_shape": "hm",
      "provenance": []
    },
    "kernelspec": {
      "display_name": "Python 3",
      "name": "python3"
    },
    "language_info": {
      "name": "python"
    }
  },
  "nbformat": 4,
  "nbformat_minor": 0
}
