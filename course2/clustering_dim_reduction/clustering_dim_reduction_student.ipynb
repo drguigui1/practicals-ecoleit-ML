{
  "cells": [
    {
      "cell_type": "markdown",
      "metadata": {
        "id": "b105QLuaU07R"
      },
      "source": [
        "# Unsupervised learning: clustering & dimensionality reduction"
      ]
    },
    {
      "cell_type": "markdown",
      "metadata": {
        "id": "3T-457_hUzr3"
      },
      "source": [
        "Welcome to this exciting practical session where we will dive into the world of unsupervised learning. You will get hands-on experience by implementing the K-means clustering algorithm, initially using it to compress an image for an insightful exploration of data compression techniques. Following this, we will shift our focus to Principal Component Analysis (PCA), applying it to face images to discover how to efficiently represent data in a lower-dimensional space. This exercise aims to deepen your understanding of these powerful algorithms and their practical applications in image processing and dimensionality reduction."
      ]
    },
    {
      "cell_type": "markdown",
      "metadata": {
        "id": "StYRTVfUEATI"
      },
      "source": [
        "The practical wll be divided into 4 parts:\n",
        "\n",
        "- Basic 2D data clustering\n",
        "- Apply KMeans for image compression\n",
        "- Basic PCA application\n",
        "- PCA for feature extraction\n"
      ]
    },
    {
      "cell_type": "markdown",
      "metadata": {
        "id": "vNlkOdkCFzyu"
      },
      "source": [
        "### Basic KMeans"
      ]
    },
    {
      "cell_type": "markdown",
      "metadata": {
        "id": "20fF-R3y-gWj"
      },
      "source": [
        "Load the data `data_cluster.mat`. You are going to use this dataset to benchmark the kmeans algorithm."
      ]
    },
    {
      "cell_type": "code",
      "execution_count": null,
      "metadata": {},
      "outputs": [],
      "source": [
        "# FIXME"
      ]
    },
    {
      "cell_type": "markdown",
      "metadata": {
        "id": "HP9RBGQGAPVS"
      },
      "source": [
        "Plot the data"
      ]
    },
    {
      "cell_type": "code",
      "execution_count": null,
      "metadata": {},
      "outputs": [],
      "source": [
        "# FIXME"
      ]
    },
    {
      "cell_type": "markdown",
      "metadata": {
        "id": "tY5L5nXkCqs4"
      },
      "source": [
        "Use the function from sklearn to fit the KMeans"
      ]
    },
    {
      "cell_type": "code",
      "execution_count": null,
      "metadata": {},
      "outputs": [],
      "source": [
        "# FIXME"
      ]
    },
    {
      "cell_type": "markdown",
      "metadata": {
        "id": "2zlXt12lDCLf"
      },
      "source": [
        "Display the cluster center"
      ]
    },
    {
      "cell_type": "code",
      "execution_count": null,
      "metadata": {},
      "outputs": [],
      "source": [
        "# FIXME"
      ]
    },
    {
      "cell_type": "markdown",
      "metadata": {
        "id": "KtAUk_kqDJ1y"
      },
      "source": [
        "Get the cluster label for each datapoint"
      ]
    },
    {
      "cell_type": "code",
      "execution_count": null,
      "metadata": {},
      "outputs": [],
      "source": [
        "# FIXME"
      ]
    },
    {
      "cell_type": "markdown",
      "metadata": {
        "id": "tvPEBVgnFwB1"
      },
      "source": [
        "### Image compression"
      ]
    },
    {
      "cell_type": "markdown",
      "metadata": {
        "id": "SLKIuP4meTYz"
      },
      "source": [
        "This is not a perfect method for image compression. But its cool because we can reduce the color map of the image using the KMeans"
      ]
    },
    {
      "cell_type": "markdown",
      "metadata": {
        "id": "yTohqSLrGB0G"
      },
      "source": [
        "Load `bird_small.png` you can use matplotlib image\n",
        "\n",
        "Ensure each pixel value is between 0 and 1"
      ]
    },
    {
      "cell_type": "code",
      "execution_count": null,
      "metadata": {},
      "outputs": [],
      "source": [
        "# FIXME"
      ]
    },
    {
      "cell_type": "markdown",
      "metadata": {
        "id": "4yBNu64ucYo5"
      },
      "source": [
        "plot the image"
      ]
    },
    {
      "cell_type": "code",
      "execution_count": null,
      "metadata": {},
      "outputs": [],
      "source": [
        "# FIXME"
      ]
    },
    {
      "cell_type": "markdown",
      "metadata": {
        "id": "9AjHZpWmGkW-"
      },
      "source": [
        "reshape the image to have only 2 dimensions: (nb_rows * nb_cols, 3)"
      ]
    },
    {
      "cell_type": "code",
      "execution_count": null,
      "metadata": {},
      "outputs": [],
      "source": [
        "# FIXME"
      ]
    },
    {
      "cell_type": "markdown",
      "metadata": {
        "id": "K7WukkxdGwnX"
      },
      "source": [
        "Now fit a KMeans on this dataset, each row is a pixel and you have the 3 components as features.\n",
        "\n",
        "You can start by using 16 clusters"
      ]
    },
    {
      "cell_type": "code",
      "execution_count": null,
      "metadata": {},
      "outputs": [],
      "source": [
        "# FIXME"
      ]
    },
    {
      "cell_type": "markdown",
      "metadata": {
        "id": "47pTMKboiyoj"
      },
      "source": [
        "now multiply the cluster centers by 255 to put them in the range 0 to 255 and then convert the dataframe in uint8.\n",
        "\n",
        "Then Map each pixel to the cluster center it belongs to and reshape your data to have (128, 128, 3)"
      ]
    },
    {
      "cell_type": "code",
      "execution_count": null,
      "metadata": {},
      "outputs": [],
      "source": [
        "# FIXME"
      ]
    },
    {
      "cell_type": "markdown",
      "metadata": {
        "id": "q-1T4J0AjG6Z"
      },
      "source": [
        "Plot the base and the compressed image"
      ]
    },
    {
      "cell_type": "code",
      "execution_count": null,
      "metadata": {},
      "outputs": [],
      "source": [
        "# FIXME"
      ]
    },
    {
      "cell_type": "markdown",
      "metadata": {
        "id": "fjv2cqgHjcHb"
      },
      "source": [
        "Now make a 3D plot of all your pixel with the assigned cluster (use your dataframe with the shape: (128 * 128, 3))"
      ]
    },
    {
      "cell_type": "code",
      "execution_count": null,
      "metadata": {},
      "outputs": [],
      "source": [
        "# FIXME"
      ]
    },
    {
      "cell_type": "markdown",
      "metadata": {
        "id": "z5onA3SBkFne"
      },
      "source": [
        "Currently our dataset has the following shape:\n",
        "\n",
        "`data.shape=(nb_image_rows * nb_image_cols, 3)`\n",
        "\n",
        "For each sample we have assigned a cluster from the KMeans algorithm\n",
        "\n",
        "Now apply the PCA to reduce the dimensions to 2 and get the following shape:\n",
        "\n",
        "`data.shape=(nb_image_rows * nb_image_cols, 2)`"
      ]
    },
    {
      "cell_type": "markdown",
      "metadata": {
        "id": "xlUnUS3w7On2"
      },
      "source": [
        "To understand deeply how PCA works, you are going to implement it from scratch, you can follow those steps:\n",
        "\n",
        "- Standardize the Data: PCA is affected by scale, so you need to scale the features in your data before applying PCA. `data = data - mean(data, axis=0)`\n",
        "\n",
        "- Compute the Covariance Matrix: The covariance matrix expresses the correlation between the different features in the data.\n",
        "\n",
        "- Compute Eigenvalues and Eigenvectors: The eigenvectors of the covariance matrix represent the directions of maximum variance, called principal components. The eigenvalues represent the magnitude of these directions.\n",
        "\n",
        "- Sort Eigenvectors by Eigenvalues: The eigenvector with the highest eigenvalue is the principal component of the dataset.\n",
        "\n",
        "- Project Data onto Principal Components: This step transforms the original data into the new space defined by the principal components. (this is just a dot product between the eigenvectors and your original data scaled)"
      ]
    },
    {
      "cell_type": "code",
      "execution_count": null,
      "metadata": {},
      "outputs": [],
      "source": [
        "# FIXME"
      ]
    },
    {
      "cell_type": "markdown",
      "metadata": {
        "id": "YUQd0CD48tCE"
      },
      "source": [
        "Now plot the 2D dataset"
      ]
    },
    {
      "cell_type": "code",
      "execution_count": null,
      "metadata": {},
      "outputs": [],
      "source": [
        "# FIXME"
      ]
    },
    {
      "cell_type": "markdown",
      "metadata": {
        "id": "ouqGn_HJ9L6F"
      },
      "source": [
        "### Simple PCA with sklearn\n",
        "\n",
        "In this part, we are going some 2D dataset and compute the principal components"
      ]
    },
    {
      "cell_type": "markdown",
      "metadata": {
        "id": "FgoKqBGE9VbM"
      },
      "source": [
        "Now load `data_pca.mat`"
      ]
    },
    {
      "cell_type": "code",
      "execution_count": null,
      "metadata": {},
      "outputs": [],
      "source": [
        "# FIXME"
      ]
    },
    {
      "cell_type": "markdown",
      "metadata": {
        "id": "FRmZEXwG9cCG"
      },
      "source": [
        "plot the dataset"
      ]
    },
    {
      "cell_type": "code",
      "execution_count": null,
      "metadata": {},
      "outputs": [],
      "source": [
        "# FIXME"
      ]
    },
    {
      "cell_type": "markdown",
      "metadata": {
        "id": "jKrsneU0-I77"
      },
      "source": [
        "Now compute the PCA"
      ]
    },
    {
      "cell_type": "code",
      "execution_count": null,
      "metadata": {},
      "outputs": [],
      "source": [
        "# FIXME"
      ]
    },
    {
      "cell_type": "markdown",
      "metadata": {
        "id": "y0KWa1XwBAzQ"
      },
      "source": [
        "Now plot the dataset with the eigenvectors\n",
        "\n",
        "follow these steps:\n",
        "\n",
        "- compute the mean of your data for each features to know where your vectors are going to start\n",
        "\n",
        "- Plot your dataset (scatter plot)\n",
        "\n",
        "- multiply your eigenvectors with the explained variance parameter from PCA\n",
        "\n",
        "- Use `add_annotation` to plot each vector"
      ]
    },
    {
      "cell_type": "code",
      "execution_count": null,
      "metadata": {},
      "outputs": [],
      "source": [
        "# FIXME"
      ]
    },
    {
      "cell_type": "markdown",
      "metadata": {
        "id": "z5rhq0wUEnfr"
      },
      "source": [
        "### Face image dataset"
      ]
    },
    {
      "cell_type": "markdown",
      "metadata": {
        "id": "vDo3mFtlEq5P"
      },
      "source": [
        "In this part we are going to extract features from faces image dataset"
      ]
    },
    {
      "cell_type": "markdown",
      "metadata": {
        "id": "ek_2v35REztC"
      },
      "source": [
        "Load `faces_dataset.mat`"
      ]
    },
    {
      "cell_type": "code",
      "execution_count": null,
      "metadata": {},
      "outputs": [],
      "source": [
        "# FIXME"
      ]
    },
    {
      "cell_type": "markdown",
      "metadata": {
        "id": "ITMIS34pFpd8"
      },
      "source": [
        "plot the shape"
      ]
    },
    {
      "cell_type": "code",
      "execution_count": null,
      "metadata": {},
      "outputs": [],
      "source": [
        "# FIXME"
      ]
    },
    {
      "cell_type": "markdown",
      "metadata": {
        "id": "igXFZhmPFqnm"
      },
      "source": [
        "all the images have the shape 32x32\n",
        "\n",
        "to get the first image: `data[0].reshape((32, 32), order='F')`\n",
        "\n",
        "plot the first image"
      ]
    },
    {
      "cell_type": "code",
      "execution_count": null,
      "metadata": {},
      "outputs": [],
      "source": [
        "# FIXME"
      ]
    },
    {
      "cell_type": "markdown",
      "metadata": {
        "id": "EtB9Ej0ZGXWm"
      },
      "source": [
        "Build the standard scaler, the PCA object with 100 components and fit on your dataset\n",
        "\n",
        "As a reminder the shape of the dataset: (nb_images, nb_img_rows x nb_img_cols)"
      ]
    },
    {
      "cell_type": "code",
      "execution_count": null,
      "metadata": {},
      "outputs": [],
      "source": [
        "# FIXME"
      ]
    },
    {
      "cell_type": "markdown",
      "metadata": {
        "id": "dbuWwstfHHqn"
      },
      "source": [
        "Now plot all the components"
      ]
    },
    {
      "cell_type": "code",
      "execution_count": null,
      "metadata": {},
      "outputs": [],
      "source": [
        "# FIXME"
      ]
    },
    {
      "cell_type": "markdown",
      "metadata": {
        "id": "n3YzlWDBHM4b"
      },
      "source": [
        "Now apply the dimensionality reduction using the PCA transform"
      ]
    },
    {
      "cell_type": "code",
      "execution_count": null,
      "metadata": {},
      "outputs": [],
      "source": [
        "# FIXME"
      ]
    },
    {
      "cell_type": "markdown",
      "metadata": {
        "id": "60XDc1bbHXoM"
      },
      "source": [
        "Now reconstruct the images, (look at `inverse_transform`)"
      ]
    },
    {
      "cell_type": "code",
      "execution_count": null,
      "metadata": {},
      "outputs": [],
      "source": [
        "# FIXME"
      ]
    },
    {
      "cell_type": "markdown",
      "metadata": {
        "id": "wefEg8E7HjHF"
      },
      "source": [
        "Plot the reconstructed images"
      ]
    },
    {
      "cell_type": "code",
      "execution_count": null,
      "metadata": {},
      "outputs": [],
      "source": [
        "# FIXME"
      ]
    },
    {
      "cell_type": "markdown",
      "metadata": {
        "id": "ioAB3UFHHobG"
      },
      "source": [
        "This is the end, we don't have time but you need to have a look at:\n",
        "\n",
        "- kernel PCA\n",
        "- SVD\n",
        "- t-SNE"
      ]
    }
  ],
  "metadata": {
    "colab": {
      "provenance": []
    },
    "kernelspec": {
      "display_name": "Python 3",
      "name": "python3"
    },
    "language_info": {
      "name": "python"
    }
  },
  "nbformat": 4,
  "nbformat_minor": 0
}
