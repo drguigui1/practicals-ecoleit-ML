{
  "cells": [
    {
      "cell_type": "markdown",
      "metadata": {
        "id": "RrTb14JXM8JJ"
      },
      "source": [
        "# Cyber security detection"
      ]
    },
    {
      "cell_type": "markdown",
      "metadata": {
        "id": "el1YC7wiM-Md"
      },
      "source": [
        "In this practical session, we will embark on an insightful journey into the world of Machine Learning (ML) with a focus on cybersecurity, specifically within Supervisory Control and Data Acquisition (SCADA) networks. Our goal is to develop a machine learning model capable of detecting cybersecurity issues in SCADA networks. This exercise will not only enhance your understanding of ML in cybersecurity but also provide you with hands-on experience in safeguarding critical infrastructure.\n",
        "\n",
        "## Understanding SCADA Systems\n",
        "\n",
        "SCADA systems are vital for the operation and monitoring of industrial processes. These systems are used to control and supervise equipment and processes in various sectors, including energy, water treatment, and transportation. For instance, in the energy sector, SCADA systems manage the distribution of electricity in power grids, ensuring that the supply meets demand. In water treatment plants, they monitor and control the flow and treatment of water, ensuring safety and efficiency.\n",
        "\n",
        "SCADA networks are critical because they support the seamless operation of our infrastructure, making them prime targets for cyber-attacks. The consequences of a successful attack can range from operational disruptions to significant financial losses and potential threats to public safety.\n",
        "\n",
        "## Dataset Overview\n",
        "\n",
        "The dataset you will be working with has been meticulously compiled from a SCADA system testbed, designed to emulate real-world industrial systems. This testbed was subjected to various cyber-attacks, particularly reconnaissance attacks, where attackers scan the network to identify vulnerabilities that could be exploited in future attacks.\n",
        "\n",
        "Here are the key columns in the dataset:\n",
        "\n",
        "**Source Port (Sport)**: This represents the port number of the source in the network transaction, crucial for understanding the communication patterns and potential unauthorized access points.\n",
        "\n",
        "**Total Packets (TotPkts)**: This column shows the total number of packets exchanged in a transaction, which can indicate the volume and intensity of network communication.\n",
        "\n",
        "**Total Bytes (TotBytes)**: Reflects the total amount of data transferred during the transaction, important for detecting large or unusual data transfers.\n",
        "\n",
        "**Source Packets (SrcPkts) and Destination Packets (DstPkts)**: These columns provide counts of packets sent from the source to the destination and vice versa, useful for identifying asymmetric traffic flows often seen in cyber-attacks.\n",
        "\n",
        "**Source Bytes (SrcBytes)**: This column indicates the amount of data sent from the source, helping to identify potential data exfiltration attempts.\n",
        "\n",
        "**Target** -> Label: Each record is labeled as either part of a network attack or normal activity. This labeling is crucial for training our ML model to differentiate between benign and malicious network behaviors.\n",
        "\n",
        "\n",
        "Source of the dataset: https://www.cse.wustl.edu/~jain/iiot/index.html\n",
        "\n",
        "You can download the dataset here: https://drive.google.com/file/d/12JNZjMbYucd-TfcFoz9AfNhv6dg7WAzk/view?usp=sharing\n"
      ]
    },
    {
      "cell_type": "markdown",
      "metadata": {
        "id": "MwocBMpWJhPy"
      },
      "source": [
        "1) Read the data with pandas (the dataset is about 200Mb)\n",
        "\n",
        "Number of samples: 7_037_983"
      ]
    },
    {
      "cell_type": "code",
      "execution_count": null,
      "metadata": {},
      "outputs": [],
      "source": [
        "# FIXME"
      ]
    },
    {
      "cell_type": "markdown",
      "metadata": {
        "id": "S3CYnfv8JhPz"
      },
      "source": [
        "2. Identify categorical and numerical features for your ML model"
      ]
    },
    {
      "cell_type": "code",
      "execution_count": null,
      "metadata": {},
      "outputs": [],
      "source": [
        "# FIXME"
      ]
    },
    {
      "cell_type": "markdown",
      "metadata": {
        "id": "e_tq6XPrJhPz"
      },
      "source": [
        "3. Compute some statistics on the dataset,\n",
        "\n",
        "- Label proportion\n",
        "- Proportion of NULL values\n",
        "- Count the number of modalities for each categorical features\n",
        "- Check label proportion for some specific modality of a categorical feature\n",
        "- Chose a column and compute some statistics like mean, std ...\n",
        "- Display the distribution of a continuous feature (bucketization of the feature and count)\n",
        "- Display the label rate per bucket for all the numerical features (what can we understand from those plots)"
      ]
    },
    {
      "cell_type": "code",
      "execution_count": null,
      "metadata": {
        "colab": {
          "base_uri": "https://localhost:8080/"
        },
        "id": "3nX8U2orJhP0",
        "outputId": "feaafeb7-017c-4acc-af6f-3090b7563879"
      },
      "outputs": [],
      "source": [
        "# Label proportion\n",
        "# FIXME"
      ]
    },
    {
      "cell_type": "code",
      "execution_count": null,
      "metadata": {
        "colab": {
          "base_uri": "https://localhost:8080/"
        },
        "id": "bp92ARVdRsOA",
        "outputId": "5c1f8e60-118f-4dcb-e563-da1d1eaddf97"
      },
      "outputs": [],
      "source": [
        "# Proportion of NULL values\n",
        "# FIXME"
      ]
    },
    {
      "cell_type": "code",
      "execution_count": null,
      "metadata": {
        "colab": {
          "base_uri": "https://localhost:8080/"
        },
        "id": "0pBMQPSiJhP0",
        "outputId": "80dd812d-09eb-49bf-d131-ff52f7b4c749"
      },
      "outputs": [],
      "source": [
        "# Count the number of modalities for each categorical features\n",
        "# FIXME"
      ]
    },
    {
      "cell_type": "code",
      "execution_count": null,
      "metadata": {
        "colab": {
          "base_uri": "https://localhost:8080/"
        },
        "id": "2DEWyOmDJhP0",
        "outputId": "2e7926e0-b649-4f37-c2dc-d591dda15192"
      },
      "outputs": [],
      "source": [
        "# Check label proportion for some specific modality of a categorical feature\n",
        "# FIXME"
      ]
    },
    {
      "cell_type": "code",
      "execution_count": null,
      "metadata": {
        "colab": {
          "base_uri": "https://localhost:8080/"
        },
        "id": "KUsdyFyTJhP0",
        "outputId": "6afa52c6-09fb-4013-9e91-c72aaf919d51"
      },
      "outputs": [],
      "source": [
        "# Chose a column and compute some statistics like mean, std ...\n",
        "# FIXME"
      ]
    },
    {
      "cell_type": "code",
      "execution_count": null,
      "metadata": {
        "colab": {
          "base_uri": "https://localhost:8080/",
          "height": 542
        },
        "id": "EzZyasU-JhP0",
        "outputId": "a161cb72-cef2-4b98-db19-bbfef122da3a"
      },
      "outputs": [],
      "source": [
        "# Display the distribution of a continuous feature (bucketization of the feature and count)\n",
        "# FIXME"
      ]
    },
    {
      "cell_type": "code",
      "execution_count": 84,
      "metadata": {
        "id": "GBw5zW_eJhP1"
      },
      "outputs": [],
      "source": [
        "# Display the label rate per bucket for all the numerical features (what can we understand from those plots)\n",
        "# FIXME"
      ]
    },
    {
      "cell_type": "markdown",
      "metadata": {
        "id": "hm6P61qFbEw3"
      },
      "source": [
        "What can we understand from the data ?"
      ]
    },
    {
      "cell_type": "code",
      "execution_count": null,
      "metadata": {
        "id": "zDb0XPsCJhP1"
      },
      "outputs": [],
      "source": [
        "# FIXME"
      ]
    },
    {
      "cell_type": "markdown",
      "metadata": {
        "id": "Gd_myXF9bNLW"
      },
      "source": [
        "### Split the dataset\n",
        "\n",
        "Split the dataset into training and test\n",
        "\n",
        "You can drop the categorical features for now if you don't know how to process categorical features with a huge number of categories"
      ]
    },
    {
      "cell_type": "markdown",
      "metadata": {
        "id": "yr-ULD47ccfZ"
      },
      "source": [
        "After the split, ensure that we have enough labels"
      ]
    },
    {
      "cell_type": "code",
      "execution_count": null,
      "metadata": {},
      "outputs": [],
      "source": [
        "# FIXME"
      ]
    },
    {
      "cell_type": "markdown",
      "metadata": {
        "id": "t6Biu9r9b12u"
      },
      "source": [
        "### Its time to fit our models"
      ]
    },
    {
      "cell_type": "markdown",
      "metadata": {
        "id": "Qsut5o1xc0nD"
      },
      "source": [
        "Build 3 different models:\n",
        "- Logistic regression\n",
        "- Decision tree\n",
        "- Gaussian Naives bayes\n",
        "\n",
        "We are going to compare the performances of our 3 models"
      ]
    },
    {
      "cell_type": "code",
      "execution_count": null,
      "metadata": {},
      "outputs": [],
      "source": [
        "# FIXME"
      ]
    },
    {
      "cell_type": "markdown",
      "metadata": {
        "id": "DsmpzkxmJhP2"
      },
      "source": [
        "### Compute metrics from scratch\n",
        "\n",
        "Accuracy / confusion matrix / precision / recall / f1 score\n",
        "\n",
        "Check if your implementation matches sklearn implementation results\n"
      ]
    },
    {
      "cell_type": "code",
      "execution_count": null,
      "metadata": {},
      "outputs": [],
      "source": [
        "# FIXME"
      ]
    },
    {
      "cell_type": "markdown",
      "metadata": {
        "id": "6E_Pnj3IAx9V"
      },
      "source": [
        "Now compute the roc auc"
      ]
    },
    {
      "cell_type": "code",
      "execution_count": null,
      "metadata": {},
      "outputs": [],
      "source": [
        "# FIXME"
      ]
    },
    {
      "cell_type": "markdown",
      "metadata": {
        "id": "wynQRR_EcsyS"
      },
      "source": [
        "### Find the optimal threshold to maximize the f1 score"
      ]
    },
    {
      "cell_type": "markdown",
      "metadata": {
        "id": "1k7QiC2EArNC"
      },
      "source": [
        "Choose the best model and compute the optimal threshold to maximize f1 score"
      ]
    },
    {
      "cell_type": "code",
      "execution_count": null,
      "metadata": {},
      "outputs": [],
      "source": [
        "# FIXME"
      ]
    }
  ],
  "metadata": {
    "colab": {
      "provenance": []
    },
    "kernelspec": {
      "display_name": "venv",
      "language": "python",
      "name": "python3"
    },
    "language_info": {
      "codemirror_mode": {
        "name": "ipython",
        "version": 3
      },
      "file_extension": ".py",
      "mimetype": "text/x-python",
      "name": "python",
      "nbconvert_exporter": "python",
      "pygments_lexer": "ipython3",
      "version": "3.11.5"
    }
  },
  "nbformat": 4,
  "nbformat_minor": 0
}
